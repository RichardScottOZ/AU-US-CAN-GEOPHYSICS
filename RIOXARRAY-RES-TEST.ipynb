{
 "cells": [
  {
   "cell_type": "code",
   "execution_count": 2,
   "id": "5d5ab33a",
   "metadata": {},
   "outputs": [],
   "source": [
    "import rioxarray\n",
    "import xarray as xr\n",
    "import numpy as np\n",
    "from richardutils import tif_dict\n",
    "import os\n",
    "from rasterio.enums import Resampling\n",
    "from richardutils import tif_dict, makegdf, df_bb, rasterize_one\n",
    "from rioxarray.merge import merge_arrays\n",
    "\n",
    "import pandas as pd\n",
    "import geopandas as gpd\n",
    "import matplotlib.pyplot as plt\n",
    "\n",
    "from geocube.api.core import make_geocube\n",
    "from geocube.rasterize import rasterize_points_griddata, rasterize_points_radial, rasterize_image\n",
    "\n",
    "from shapely.geometry import box, mapping\n",
    "from functools import partial\n",
    "import json\n"
   ]
  },
  {
   "cell_type": "code",
   "execution_count": 3,
   "id": "1516187c",
   "metadata": {},
   "outputs": [],
   "source": [
    "usgs = tif_dict(r'D:\\Geophysics')"
   ]
  },
  {
   "cell_type": "code",
   "execution_count": 4,
   "id": "ade212c0",
   "metadata": {},
   "outputs": [
    {
     "name": "stdout",
     "output_type": "stream",
     "text": [
      "GeophysicsGravity_HGM_AusCan.tif (0.031, -0.031) (-168.1285, -43.6635, 159.1075, 83.12650000000001) (4090, 10556)\n",
      "GeophysicsGravity_Australia.tif (0.00553, -0.00553) (112.919835, -43.65658499999999, 159.100865, -9.221274999999999) (6227, 8351)\n",
      "GeophysicsGravity_HGM_Australia.tif (0.00553, -0.00553) (112.919835, -43.65658499999999, 159.100865, -9.221274999999999) (6227, 8351)\n",
      "GeophysicsGravity_UpCont30km_Australia.tif (0.00553, -0.00553) (112.919835, -43.65658499999999, 159.100865, -9.221274999999999) (6227, 8351)\n",
      "GeophysicsGravity_UpCont30km_HGM_Australia.tif (0.00553, -0.00553) (112.919835, -43.65658499999999, 159.100865, -9.221274999999999) (6227, 8351)\n",
      "GeophysicsSatelliteGravity_ShapeIndex_Australia.tif (0.2, -0.2) (113.0, -43.60000000000001, 153.6, -10.600000000000001) (165, 203)\n",
      "GeophysicsSatelliteGravity_ShapeIndex_USCanada.tif (0.2, -0.2) (-178.2, 21.800000000000004, -52.59999999999999, 83.2) (307, 628)\n",
      "GeophysicsGravity_HGM_USCanada.tif (0.031, -0.031) (-168.1285, 23.57550000000001, -50.3905, 83.12650000000001) (1921, 3798)\n",
      "GeophysicsGravity_UpCont30km_HGM_USCanada.tif (0.031, -0.031) (-168.1285, 23.57550000000001, -50.3905, 83.12650000000001) (1921, 3798)\n",
      "GeophysicsGravity_UpCont30km_USCanada.tif (0.031, -0.031) (-168.1285, 23.57550000000001, -50.3905, 83.12650000000001) (1921, 3798)\n",
      "GeophysicsGravity_USCanada.tif (0.031, -0.031) (-168.1285, 23.57550000000001, -50.3905, 83.12650000000001) (1921, 3798)\n",
      "GeophysicsMagRTP_Australia.tif (0.0024999, -0.0024999) (112.91847325, -43.64094395000001, 153.63184465, -10.049787649999999) (13437, 16286)\n",
      "GeophysicsMagRTP_DeepSources_Australia.tif (0.00806, -0.00806) (112.91657, -43.64087, 153.62762999999998, -10.054850000000002) (4167, 5051)\n",
      "GeophysicsMagRTP_HGMDeepSources_Australia.tif (0.00828, -0.00828) (112.9185, -43.63974, 153.63126, -10.04778000000001) (4057, 4917)\n",
      "GeophysicsMagRTP_HGM_Australia.tif (0.00806, -0.00806) (112.91657, -43.64087, 153.62762999999998, -10.054850000000002) (4167, 5051)\n",
      "GeophysicsMagRTP_VD_Australia.tif (0.0024999, -0.0024999) (112.91847325, -43.64094395000001, 153.63184465, -10.049787649999999) (13437, 16286)\n",
      "GeophysicsMagRTP_DeepSources_USCanada.tif (0.0181, -0.0181) (-191.00025, 17.348849999999988, -8.98664999999997, 90.05655) (4017, 10056)\n",
      "GeophysicsMagRTP_HGMDeepSources_USCanada.tif (0.0189, -0.0189) (-189.38745, 15.69645, -11.04705, 88.85835) (3871, 9436)\n",
      "GeophysicsMagRTP_HGM_USCanada.tif (0.0151, -0.0151) (-187.50425, 23.17095000000001, -52.631049999999995, 83.10285) (3969, 8932)\n",
      "GeophysicsMagRTP_USCanada.tif (0.0151, -0.0151) (-187.50425, 23.17095000000001, -52.631049999999995, 83.10285) (3969, 8932)\n",
      "GeophysicsMagRTP_VD_USCanada.tif (0.0151, -0.0151) (-187.50425, 23.17095000000001, -52.631049999999995, 83.10285) (3969, 8932)\n",
      "GeophysicsMag_USCanada.tif (0.0151, -0.0151) (-187.50425, 23.17095000000001, -52.631049999999995, 83.10285) (3969, 8932)\n",
      "GeophysicsLAB_Australia.tif (0.1, -0.1) (112.95, -43.64999999999999, 153.65, -10.049999999999997) (336, 407)\n",
      "GeophysicsLAB_USCanada.tif (0.1, -0.1) (-178.85, 21.750000000000004, -52.64999999999998, 83.15) (614, 1262)\n",
      "GeophysicsMoho_Australia.tif (0.1, -0.1) (112.95, -43.64999999999999, 153.65, -9.349999999999994) (343, 407)\n",
      "GeophysicsMoho_USCanada.tif (0.25, -0.25) (-173.125, 25.125, -52.625, 83.125) (232, 482)\n",
      "GeophysicsGravity_AustraliaUSCanada.tif (0.00553, -0.00553) (-168.1285, -43.654279999999986, 159.09819000000002, 83.12650000000001) (22926, 59173)\n",
      "GeophysicsGravity_AustraliaUSCanada_clip.tif (0.00553, -0.00553) (-168.1285, -43.654279999999986, 159.09819000000002, 83.12650000000001) (22926, 59173)\n",
      "GeophysicsGravity_AustraliaUSCanada_clip9999.tif (0.00553, -0.00553) (-168.1285, -43.654279999999986, 159.09819000000002, 83.12650000000001) (22926, 59173)\n",
      "GeophysicsGravity_HGM_AustraliaUSCanada.tif (0.00553, -0.00553) (-168.1285, -43.654279999999986, 159.09819000000002, 83.12650000000001) (22926, 59173)\n",
      "GeophysicsGravity_HGM_AustraliaUSCanada_clip.tif (0.00553, -0.00553) (-168.1285, -43.654279999999986, 159.09819000000002, 83.12650000000001) (22926, 59173)\n",
      "GeophysicsGravity_HGM_AustraliaUSCanada_clip9999.tif (0.00553, -0.00553) (-168.1285, -43.654279999999986, 159.09819000000002, 83.12650000000001) (22926, 59173)\n",
      "GeophysicsGravity_UpCont30km_AustraliaUSCanada.tif (0.00553, -0.00553) (-168.1285, -43.654279999999986, 159.09819000000002, 83.12650000000001) (22926, 59173)\n",
      "GeophysicsGravity_UpCont30km_AustraliaUSCanada_clip.tif (0.00553, -0.00553) (-168.1285, -43.654279999999986, 159.09819000000002, 83.12650000000001) (22926, 59173)\n",
      "GeophysicsGravity_UpCont30km_AustraliaUSCanada_clip9999.tif (0.00553, -0.00553) (-168.1285, -43.654279999999986, 159.09819000000002, 83.12650000000001) (22926, 59173)\n",
      "GeophysicsGravity_UpCont30km_HGM_AustraliaUSCanada.tif (0.00553, -0.00553) (-168.1285, -43.654279999999986, 159.09819000000002, 83.12650000000001) (22926, 59173)\n",
      "GeophysicsGravity_UpCont30km_HGM_AustraliaUSCanada_clip.tif (0.00553, -0.00553) (-168.1285, -43.654279999999986, 159.09819000000002, 83.12650000000001) (22926, 59173)\n",
      "GeophysicsGravity_UpCont30km_HGM_AustraliaUSCanada_clip9999.tif (0.00553, -0.00553) (-168.1285, -43.654279999999986, 159.09819000000002, 83.12650000000001) (22926, 59173)\n",
      "GeophysicsLAB_AustraliaUSCanada.tif (0.1, -0.1) (-178.85, -43.64999999999999, 153.65000000000006, 83.15) (1268, 3325)\n",
      "GeophysicsLAB_AustraliaUSCanada_clip.tif (0.1, -0.1) (-178.85, -43.64999999999999, 153.65000000000006, 83.15) (1268, 3325)\n",
      "GeophysicsLAB_AustraliaUSCanada_clip9999.tif (0.1, -0.1) (-178.85, -43.64999999999999, 153.65000000000006, 83.15) (1268, 3325)\n",
      "GeophysicsMagRTP_AustraliaUSCanada.tif (0.0049998, -0.0049998) (-187.50425, -43.642080000000014, 153.63710380000003, 83.10285) (25350, 68231)\n",
      "GeophysicsMagRTP_AustraliaUSCanada_clip.tif (0.0049998, -0.0049998) (-180.00455000000002, -43.642080000000014, 153.6371038, 83.10285) (25350, 66731)\n",
      "GeophysicsMagRTP_AustraliaUSCanada_clip9999.tif (0.0049998, -0.0049998) (-180.00455000000002, -43.642080000000014, 153.6371038, 83.10285) (25350, 66731)\n",
      "GeophysicsMagRTP_DeepSources_AustraliaUSCanada.tif (0.00806, -0.00806) (-191.00025, -43.642729999999986, 153.62923, 90.05655) (16588, 42758)\n",
      "GeophysicsMagRTP_DeepSources_AustraliaUSCanada_clip.tif (0.00806, -0.00806) (-180.00641, -43.642729999999986, 153.62922999999998, 90.00013) (16581, 41394)\n",
      "GeophysicsMagRTP_HGMDeepSources_AustraliaUSCanada.tif (0.00828, -0.00828) (-189.38745, -43.63820999999998, 153.62811, 88.85835) (16002, 41427)\n",
      "GeophysicsMagRTP_HGMDeepSources_AustraliaUSCanada_clip.tif (0.00828, -0.00828) (-180.00621, -43.63820999999998, 153.62811, 88.85835) (16002, 40294)\n",
      "GeophysicsMagRTP_HGM_AustraliaUSCanada.tif (0.00806, -0.00806) (-187.50425, -43.640649999999994, 153.62718999999998, 83.10285) (15725, 42324)\n",
      "GeophysicsMagRTP_HGM_AustraliaUSCanada_clip.tif (0.00806, -0.00806) (-180.00039, -43.640649999999994, 153.62718999999996, 83.10285) (15725, 41393)\n",
      "GeophysicsMagRTP_VD_AustraliaUSCanada.tif (0.0049998, -0.0049998) (-187.50425, -43.642080000000014, 153.63710380000003, 83.10285) (25350, 68231)\n",
      "GeophysicsMagRTP_VD_AustraliaUSCanada_clip.tif (0.0049998, -0.0049998) (-180.00455000000002, -43.642080000000014, 153.6371038, 83.10285) (25350, 66731)\n",
      "GeophysicsMoho_AustraliaUSCanada.tif (0.10000000000000002, -0.1) (-173.125, -43.675, 153.67500000000007, 83.125) (1268, 3268)\n",
      "GeophysicsMoho_AustraliaUSCanada_clip.tif (0.10000000000000002, -0.1) (-173.125, -43.675, 153.67500000000007, 83.125) (1268, 3268)\n",
      "GeophysicsSatelliteGravity_ShapeIndex_AustraliaUSCanada.tif (0.2, -0.2) (-178.2, -43.6, 153.60000000000002, 83.2) (634, 1659)\n",
      "GeophysicsSatelliteGravity_ShapeIndex_AustraliaUSCanada_clip.tif (0.2, -0.2) (-178.2, -43.6, 153.60000000000002, 83.2) (634, 1659)\n",
      "mask_AustraliaUSCanada_grav.tif (0.00553, -0.00553) (-168.1285, -43.654279999999986, 159.09819000000002, 83.12650000000001) (22926, 59173)\n",
      "GeologyCMMI.tif (-0.00806, 0.00806) (-180.01203999999998, -43.6449, 153.63165999999998, 90.00601999999998) (16582, 41395)\n",
      "GeologyCMMI_0.tif (-0.00806, 0.00806) (-180.01203999999998, -43.6449, 153.63165999999998, 90.00601999999998) (16582, 41395)\n",
      "GeologyFaults.tif (-0.00806, 0.00806) (-180.01203999999998, -43.6449, 153.63165999999998, 90.00601999999998) (16582, 41395)\n",
      "GeologyPassiveMarginsModern_World.tif (-0.1, 0.1) (-173.20000000000002, -43.70000000000001, 153.70000000000002, 83.2) (1269, 3269)\n",
      "GeophysicsMagRTP_DeepSources_AustraliaUSCanada_clip9999.tif (0.00806, -0.00806) (-180.00641, -43.642729999999986, 153.62922999999998, 90.00013) (16581, 41394)\n",
      "GeophysicsMagRTP_HGMDeepSources_AustraliaUSCanada_clip9999.tif (0.00828, -0.00828) (-180.00621, -43.63820999999998, 153.62811, 88.85835) (16002, 40294)\n",
      "GeophysicsMagRTP_HGM_AustraliaUSCanada_clip9999.tif (0.00806, -0.00806) (-180.00039, -43.640649999999994, 153.62718999999996, 83.10285) (15725, 41393)\n",
      "GeophysicsMagRTP_VD_AustraliaUSCanada_clip9999.tif (0.0049998, -0.0049998) (-180.00455000000002, -43.642080000000014, 153.6371038, 83.10285) (25350, 66731)\n",
      "GeophysicsMoho_AustraliaUSCanada_clip9999.tif (0.10000000000000002, -0.1) (-173.125, -43.675, 153.67500000000007, 83.125) (1268, 3268)\n",
      "GeophysicsSatelliteGravity_ShapeIndex_AustraliaUSCanada_clip9999.tif (0.2, -0.2) (-178.2, -43.6, 153.60000000000002, 83.2) (634, 1659)\n",
      "GeophysicsGravity_Up30km_HGM_USCanada.tif (0.031, -0.031) (-168.1285, 23.57550000000001, -50.3905, 83.12650000000001) (1921, 3798)\n",
      "GeophysicsGravity_Up30km_USCanada.tif (0.031, -0.031) (-168.1285, 23.57550000000001, -50.3905, 83.12650000000001) (1921, 3798)\n",
      "USCanada_Moho.tif (0.25, -0.25) (-173.125, 25.125, -52.625, 83.125) (232, 482)\n"
     ]
    }
   ],
   "source": [
    "for tif in usgs:\n",
    "    print(tif, usgs[tif].rio.resolution(),usgs[tif].rio.bounds(),usgs[tif].squeeze().shape)"
   ]
  },
  {
   "cell_type": "code",
   "execution_count": null,
   "id": "f43eca5f",
   "metadata": {},
   "outputs": [],
   "source": []
  }
 ],
 "metadata": {
  "kernelspec": {
   "display_name": "Python [conda env:miniconda3-pangeo]",
   "language": "python",
   "name": "conda-env-miniconda3-pangeo-py"
  },
  "language_info": {
   "codemirror_mode": {
    "name": "ipython",
    "version": 3
   },
   "file_extension": ".py",
   "mimetype": "text/x-python",
   "name": "python",
   "nbconvert_exporter": "python",
   "pygments_lexer": "ipython3",
   "version": "3.9.16"
  }
 },
 "nbformat": 4,
 "nbformat_minor": 5
}
