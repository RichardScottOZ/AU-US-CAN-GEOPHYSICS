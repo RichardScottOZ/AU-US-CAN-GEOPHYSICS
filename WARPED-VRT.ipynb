{
 "cells": [
  {
   "cell_type": "code",
   "execution_count": 2,
   "id": "0a4bff19",
   "metadata": {},
   "outputs": [],
   "source": [
    "import rioxarray\n",
    "import xarray as xr\n",
    "\n",
    "import dask\n",
    "from dask.diagnostics import ProgressBar\n",
    "\n",
    "import rasterio\n",
    "from rasterio import crs, MemoryFile\n",
    "from rasterio.vrt import WarpedVRT\n",
    "from rasterio.shutil import copy as rio_copy\n",
    "from rasterio.crs import CRS\n",
    "from rasterio.enums import Resampling\n",
    "from rasterio import shutil as rio_shutil\n",
    "\n",
    "import affine\n"
   ]
  },
  {
   "cell_type": "code",
   "execution_count": null,
   "id": "efc456ed",
   "metadata": {},
   "outputs": [],
   "source": [
    "# assume you have a width, height, etc in mind"
   ]
  },
  {
   "cell_type": "code",
   "execution_count": null,
   "id": "2912af5c",
   "metadata": {},
   "outputs": [],
   "source": [
    "dst_crs = CRS.from_epsg(4326)\n",
    "\n",
    "xres = (right - left) / dst_width\n",
    "yres = (top - bottom) / dst_height\n",
    "dst_transform = affine.Affine(xres, 0.0, left,\n",
    "                              0.0, -yres, top)\n",
    "\n",
    "vrt_options = {\n",
    "    'resampling': Resampling.nearest,\n",
    "    'crs': dst_crs,\n",
    "    'transform': dst_transform,\n",
    "    'height': dst_height,\n",
    "    'width': dst_width,\n",
    "}"
   ]
  },
  {
   "cell_type": "code",
   "execution_count": null,
   "id": "b6c7d929",
   "metadata": {},
   "outputs": [],
   "source": [
    "f = r'thermal_endmembers.vrt'\n",
    "epsg_to = 4326\n",
    "\n",
    "with rasterio.open(f) as src:\n",
    "    print('Source CRS:' +str(src.crs))\n",
    "    with WarpedVRT(src, **vrt_options) as vrt:\n",
    "        print('Destination CRS:' +str(vrt.crs))\n",
    "        with ProgressBar():\n",
    "            thermal_match = rioxarray.open_rasterio(vrt, chunks=(1, 8000,8000))\n",
    "            thermal_match.rio.to_raster(r'J:\\test.tif')"
   ]
  }
 ],
 "metadata": {
  "kernelspec": {
   "display_name": "Python [conda env:miniconda3-pangeo]",
   "language": "python",
   "name": "conda-env-miniconda3-pangeo-py"
  },
  "language_info": {
   "codemirror_mode": {
    "name": "ipython",
    "version": 3
   },
   "file_extension": ".py",
   "mimetype": "text/x-python",
   "name": "python",
   "nbconvert_exporter": "python",
   "pygments_lexer": "ipython3",
   "version": "3.9.16"
  }
 },
 "nbformat": 4,
 "nbformat_minor": 5
}
